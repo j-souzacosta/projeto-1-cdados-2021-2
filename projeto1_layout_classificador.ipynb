{
 "cells": [
  {
   "cell_type": "markdown",
   "metadata": {},
   "source": [
    "# Projeto 1 - Ciência dos Dados"
   ]
  },
  {
   "cell_type": "markdown",
   "metadata": {},
   "source": [
    "Nome: joao Pedro De Souza Costa Ferreira\n",
    "\n",
    "Nome: Paolo Martinati"
   ]
  },
  {
   "cell_type": "markdown",
   "metadata": {},
   "source": [
    "Atenção: Serão permitidos grupos de três pessoas, mas com uma rubrica mais exigente. Grupos deste tamanho precisarão fazer um questionário de avaliação de trabalho em equipe"
   ]
  },
  {
   "cell_type": "markdown",
   "metadata": {},
   "source": [
    "___\n",
    "Carregando algumas bibliotecas:"
   ]
  },
  {
   "cell_type": "code",
   "execution_count": 176,
   "metadata": {},
   "outputs": [],
   "source": [
    "%matplotlib inline\n",
    "import pandas as pd\n",
    "import matplotlib.pyplot as plt\n",
    "import numpy as np\n",
    "import os\n",
    "import re\n",
    "import operator\n",
    "import functools\n",
    "import emoji"
   ]
  },
  {
   "cell_type": "code",
   "execution_count": 177,
   "metadata": {
    "scrolled": false
   },
   "outputs": [
    {
     "name": "stdout",
     "output_type": "stream",
     "text": [
      "Esperamos trabalhar no diretório\n",
      "C:\\Users\\Pichau\\Documents\\faculdade\\C dados\\C dados semestre atual\\Projeto 1\n"
     ]
    }
   ],
   "source": [
    "print('Esperamos trabalhar no diretório')\n",
    "print(os.getcwd())"
   ]
  },
  {
   "cell_type": "markdown",
   "metadata": {},
   "source": [
    "Carregando a base de dados com os tweets classificados como relevantes e não relevantes:"
   ]
  },
  {
   "cell_type": "code",
   "execution_count": 178,
   "metadata": {},
   "outputs": [],
   "source": [
    "filename = 'netflix.xlsx'"
   ]
  },
  {
   "cell_type": "code",
   "execution_count": 179,
   "metadata": {},
   "outputs": [],
   "source": [
    "train = pd.read_excel(filename)\n"
   ]
  },
  {
   "cell_type": "code",
   "execution_count": 180,
   "metadata": {},
   "outputs": [],
   "source": [
    "test = pd.read_excel(filename, sheet_name = 'Teste')\n"
   ]
  },
  {
   "cell_type": "markdown",
   "metadata": {},
   "source": [
    "___\n",
    "## Classificador automático de sentimento\n"
   ]
  },
  {
   "cell_type": "markdown",
   "metadata": {},
   "source": [
    "Faça aqui uma descrição do seu produto e o que considerou como relevante ou não relevante na classificação dos tweets.\n",
    "\n",
    "ESCREVA AQUI...\n",
    "\n",
    "O nosso produto é o seviço de steaming netflix \n",
    "Classificamos como relevante todo tipo de sugestao para a marca (indicaóes de series, comparaçao com outro serviços de streaming,o que as pessoas comsomem quando estáo vendo netflix,obter informações sobre a opinião e aceitação (ou não) dos usuarios...)"
   ]
  },
  {
   "cell_type": "markdown",
   "metadata": {},
   "source": []
  },
  {
   "cell_type": "markdown",
   "metadata": {},
   "source": [
    "___\n",
    "### Montando um Classificador Naive-Bayes\n",
    "\n",
    "Considerando apenas as mensagens da planilha Treinamento, ensine  seu classificador."
   ]
  },
  {
   "cell_type": "markdown",
   "metadata": {},
   "source": [
    "#### lista para utilização futura do codigo"
   ]
  },
  {
   "cell_type": "code",
   "execution_count": 181,
   "metadata": {},
   "outputs": [],
   "source": [
    "\n",
    "# stop words basicamente sao palavras aserem removidas que não representão algum ganho para o rpojeto\n",
    "#lista de 'stopwords' para serem removidas depois:\n",
    "stopwords = ['de','a','o','que','e','do','da','em','um','para','e','com','nao','uma','os','no','se',\n",
    "             'na','por','mais','as','como','mas','foi','ao','ele','tem','a','sua','ou','ser','quando',\n",
    "             'muito','ja','eu','isso','ela','era','depois','sem','mesmo','ter',\n",
    "             'quem','me','esse','eles','tinha','essa','nem','meu','as','minha','tem','não','é','pra','só',\n",
    "            'q','vou','pq','já','até','vai','fazer','acho','pelo','faz', ]\n",
    "\n",
    "\n",
    "#Lista de palavras que nos interessam e serão usadas para comparação mais tarde.    \n",
    "palavras_importantes = ['hbo max','amazon','disney','youtube','dorama','crunchyroll'\\\n",
    "               ,'streaming','breja','serie','recomendação','filme','the society','sense 8'\n",
    "                'modern family','anime','chocolate','pipoca','casa de papel']   "
   ]
  },
  {
   "cell_type": "markdown",
   "metadata": {},
   "source": [
    "#### funcoes iniciais "
   ]
  },
  {
   "cell_type": "code",
   "execution_count": 182,
   "metadata": {},
   "outputs": [],
   "source": [
    "#Função que aucilia na limpesa do material analizado, separando emojis de outros caracteres.        \n",
    "def separa_emoji(lista):\n",
    "    lista_separa_emoji = emoji.get_emoji_regexp().split(lista)\n",
    "    lista_separa_espaco = [substr.split() for substr in lista_separa_emoji]\n",
    "    lista_separa = functools.reduce(operator.concat, lista_separa_espaco)\n",
    "    return lista_separa\n",
    "\n",
    "def limpeza_texto(texto):\n",
    "    #Retira as sequências de controle\n",
    "    texto = texto.replace(\"\\\\n\", '').replace(\"\\n\\n\", '').replace(\"\\n\", '').replace(\"[\", '').replace(\"]\", '')\n",
    "    #Parte \"muito simples\" retirado do material de aula.\n",
    "    punctuation = '[!-..:?;_—•|/\\‘’“”@#$%&₱༉‧₊˚~]' \n",
    "    pattern = re.compile(punctuation)\n",
    "    texto_sub = re.sub(pattern, '', texto)\n",
    "    #substitui as palavras \"netflix\" e \"https\" que nao interverem na relevancia da mensagem.\n",
    "    texto_sub = texto_sub.replace(\"netflix\",'').replace(\"https\", '')\n",
    "    return texto_sub\n",
    "\n"
   ]
  },
  {
   "cell_type": "markdown",
   "metadata": {},
   "source": [
    "#### palavras mais relevantes e irrelavantes,  aplicando o smooth"
   ]
  },
  {
   "cell_type": "code",
   "execution_count": 183,
   "metadata": {},
   "outputs": [
    {
     "data": {
      "text/html": [
       "<div>\n",
       "<style scoped>\n",
       "    .dataframe tbody tr th:only-of-type {\n",
       "        vertical-align: middle;\n",
       "    }\n",
       "\n",
       "    .dataframe tbody tr th {\n",
       "        vertical-align: top;\n",
       "    }\n",
       "\n",
       "    .dataframe thead th {\n",
       "        text-align: right;\n",
       "    }\n",
       "</style>\n",
       "<table border=\"1\" class=\"dataframe\">\n",
       "  <thead>\n",
       "    <tr style=\"text-align: right;\">\n",
       "      <th></th>\n",
       "      <th>Quantd</th>\n",
       "      <th>Probabilidade (smooth)</th>\n",
       "    </tr>\n",
       "  </thead>\n",
       "  <tbody>\n",
       "    <tr>\n",
       "      <th>série</th>\n",
       "      <td>17</td>\n",
       "      <td>0.005778</td>\n",
       "    </tr>\n",
       "    <tr>\n",
       "      <th>assistir</th>\n",
       "      <td>16</td>\n",
       "      <td>0.005457</td>\n",
       "    </tr>\n",
       "    <tr>\n",
       "      <th>society</th>\n",
       "      <td>12</td>\n",
       "      <td>0.004173</td>\n",
       "    </tr>\n",
       "    <tr>\n",
       "      <th>filme</th>\n",
       "      <td>11</td>\n",
       "      <td>0.003852</td>\n",
       "    </tr>\n",
       "    <tr>\n",
       "      <th>casa</th>\n",
       "      <td>10</td>\n",
       "      <td>0.003531</td>\n",
       "    </tr>\n",
       "    <tr>\n",
       "      <th>ver</th>\n",
       "      <td>9</td>\n",
       "      <td>0.003210</td>\n",
       "    </tr>\n",
       "    <tr>\n",
       "      <th>papel</th>\n",
       "      <td>9</td>\n",
       "      <td>0.003210</td>\n",
       "    </tr>\n",
       "    <tr>\n",
       "      <th>nunca</th>\n",
       "      <td>8</td>\n",
       "      <td>0.002889</td>\n",
       "    </tr>\n",
       "    <tr>\n",
       "      <th>la</th>\n",
       "      <td>7</td>\n",
       "      <td>0.002568</td>\n",
       "    </tr>\n",
       "    <tr>\n",
       "      <th>vendo</th>\n",
       "      <td>6</td>\n",
       "      <td>0.002247</td>\n",
       "    </tr>\n",
       "  </tbody>\n",
       "</table>\n",
       "</div>"
      ],
      "text/plain": [
       "          Quantd  Probabilidade (smooth)\n",
       "série         17                0.005778\n",
       "assistir      16                0.005457\n",
       "society       12                0.004173\n",
       "filme         11                0.003852\n",
       "casa          10                0.003531\n",
       "ver            9                0.003210\n",
       "papel          9                0.003210\n",
       "nunca          8                0.002889\n",
       "la             7                0.002568\n",
       "vendo          6                0.002247"
      ]
     },
     "execution_count": 183,
     "metadata": {},
     "output_type": "execute_result"
    }
   ],
   "source": [
    "# separando o data frame entre irrelevantes e relevantes só para separação de palavras \n",
    "TTrelevantes = train.loc[train.B1 == 1, :]\n",
    "TTirrelevantes = train.loc[train.B1 == 0, :]\n",
    "\n",
    "TTrelevantes.head()\n",
    "\n",
    "#Relevantes\n",
    "\n",
    "# Separando as palavras:\n",
    "Lrelevantes = TTrelevantes.Treinamento.tolist()\n",
    "palavras_relevantes = []\n",
    "for tweet in Lrelevantes:\n",
    "    palavras = tweet.split()\n",
    "    palavras_relevantes += palavras\n",
    "    \n",
    "len(palavras_relevantes)\n",
    "\n",
    "# Criando um dicionario com a contagem de palavras:\n",
    "dic_relevantes = {}\n",
    "for palavra in palavras_relevantes:\n",
    "    if palavra in dic_relevantes:\n",
    "        dic_relevantes[palavra] +=1\n",
    "    else:\n",
    "        dic_relevantes[palavra] = 1\n",
    "dic_relevantes\n",
    "relevantes = pd.DataFrame.from_dict(dic_relevantes, orient='index', columns=['Quantd'])\n",
    "\n",
    "#Irrelevantes\n",
    "# Separando as palavras:\n",
    "Lirrelevantes = TTirrelevantes.Treinamento.tolist()\n",
    "palavras_irrelevantes = []\n",
    "for tweet in Lirrelevantes:\n",
    "    palavras = tweet.split()\n",
    "    palavras_irrelevantes += palavras\n",
    "    \n",
    "len(palavras_irrelevantes)\n",
    "\n",
    "# Criando um dicionario com a contagem de palavras:\n",
    "dic_irrelevantes = {}\n",
    "for palavra in palavras_irrelevantes:\n",
    "    if palavra in dic_irrelevantes:\n",
    "        dic_irrelevantes[palavra] +=1\n",
    "    else:\n",
    "        dic_irrelevantes[palavra] = 1\n",
    "dic_irrelevantes\n",
    "irrelevantes = pd.DataFrame.from_dict(dic_irrelevantes, orient='index', columns=['Quantd'])\n",
    "\n",
    "\n",
    "palavras = relevantes + irrelevantes\n",
    "\n",
    "# utilizando cont do tamanho da lista para o proximo passo \n",
    "total_relevantes = len(relevantes.index)\n",
    "total_irrelevantes = len(irrelevantes.index)\n",
    "total_palavras = len(palavras.index)\n",
    "\n",
    "# para serapração de palavras retiramos algumas que não oferecem quallidade ao projeto e aplicamos o smooth \n",
    "relevantes['Probabilidade (smooth)'] = (relevantes.Quantd+1)/(total_relevantes + total_palavras)\n",
    "tabela_relevantes=relevantes.drop(stopwords).drop('netflix').drop('netflix.').drop('netflix,').drop('the').drop('@seriesbrasil')\n",
    "tabela_relevantes.sort_values(by='Quantd',ascending=False).head(10)\n",
    "\n"
   ]
  },
  {
   "cell_type": "markdown",
   "metadata": {},
   "source": [
    "#### separando o dataframe em listas de relevantes e irrelevantes novamente para classificador"
   ]
  },
  {
   "cell_type": "code",
   "execution_count": 184,
   "metadata": {},
   "outputs": [],
   "source": [
    "#separando o dataframe em dois novamente para o classificador,de acordo com a relevancia feita na coragem.\n",
    "train_relevantes = train.loc[train.B1 == 1]\n",
    "train_irrelevantes = train.loc[train.B1== 0]\n",
    "\n",
    "#Estas funções fazem com que o conteúdo por inteiro seja exposto. \n",
    "pd.set_option('display.max_rows', None)\n",
    "pd.set_option('display.max_colwidth', None)"
   ]
  },
  {
   "cell_type": "markdown",
   "metadata": {},
   "source": [
    "#### criando as listas e tabelas de relevantes e irrelevantes aplicando as funções e as modificações"
   ]
  },
  {
   "cell_type": "markdown",
   "metadata": {},
   "source": [
    "#### conjunto completo"
   ]
  },
  {
   "cell_type": "code",
   "execution_count": 185,
   "metadata": {},
   "outputs": [],
   "source": [
    "\n",
    "#repetindo novamente o processo mas dessa vez para o conjunto completo de palavras\n",
    "\n",
    "#\"l_completa\" é uma lista com todos os tweeets relevantes, aplicando a função de limpezade texto.\n",
    "l_completa = limpeza_texto(str(train.Treinamento))\n",
    "\n",
    "#Função para seprar os caracteres colados em emojis\n",
    "l_completa = separa_emoji(l_completa.lower())\n",
    "\n",
    "#\"palavra_completa\" ë um dataframe com todas as palavras relevantes.\n",
    "palavra_completa = pd.Series(l_completa)\n",
    "\n",
    "#criando uma tabela com a contagem da quantidade de cada palavra.\n",
    "tabela_completa = palavra_completa.value_counts()\n",
    "\n",
    "#Removendo as stopwords.\n",
    "tabela_completa = tabela_completa.drop(labels=stopwords)\n",
    "\n",
    "#Calculando as probabilidades da palavra ser relevante ou irrelevante.\n",
    "P_rel = len(palavra_relevante)/len(palavra_completa)\n",
    "P_irrel = 1 - P_rel"
   ]
  },
  {
   "cell_type": "markdown",
   "metadata": {},
   "source": [
    "####  relevantes "
   ]
  },
  {
   "cell_type": "code",
   "execution_count": 186,
   "metadata": {},
   "outputs": [],
   "source": [
    "#repetindo novamente o processo mas dessa vez para o conjunto completo de palavras\n",
    "\n",
    "l_relevante = limpeza_texto(str(train_relevantes.Treinamento))\n",
    "l_relevante = separa_emoji(l_relevante.lower())\n",
    "palavra_relevante = pd.Series(l_relevante)\n",
    "tabela_relevantes = palavra_relevante.value_counts()\n",
    "tabela_relevantes = tabela_relevantes.drop(labels=stopwords)\n"
   ]
  },
  {
   "cell_type": "markdown",
   "metadata": {},
   "source": [
    "#### irrelevantes"
   ]
  },
  {
   "cell_type": "code",
   "execution_count": 187,
   "metadata": {},
   "outputs": [],
   "source": [
    "\n",
    "#repitindo o processo anterior.\n",
    "\n",
    "l_irrelevante = limpeza_texto(str(train_irrelevantes.Treinamento))\n",
    "l_irrelevante = separa_emoji(l_irrelevante.lower())\n",
    "palavra_irrelevante = pd.Series(l_irrelevante)\n",
    "tabela_irrelevantes = palavra_irrelevante.value_counts()\n",
    "tabela_irrelevantes = tabela_irrelevantes.drop(labels=stopwords)"
   ]
  },
  {
   "cell_type": "markdown",
   "metadata": {},
   "source": [
    " #### criando  funções para calcular probabilidade  (*classificador naivy bayes*) e aplicando\n"
   ]
  },
  {
   "cell_type": "code",
   "execution_count": 188,
   "metadata": {},
   "outputs": [],
   "source": [
    "#Essa funçao calcula a probabilidade de uma palavra pertencer ser parte das palavras relevante ou das palavras irrelevante.\n",
    "def probabilidades(palavra):\n",
    "\n",
    "    if palavra in tabela_relevantes:\n",
    "        R = tabela_relevantes[palavra]\n",
    "    else:\n",
    "        R = 0       \n",
    "    if palavra in tabela_irrelevantes:\n",
    "        I = tabela_irrelevantes[palavra]\n",
    "    else:\n",
    "        I = 0           \n",
    "            \n",
    "    Rel = (R + 1) / (len(l_relevante) + 1*len(train))\n",
    "    Irrel = (I + 1) / (len(l_irrelevante) + 1*len(train))\n",
    "    return [Rel, Irrel] #  Rel = P(palavra|Relevantes)  ||  Irrel = P(palavra|Irrelevantes)\n",
    "\n",
    "#funçao para calcular a probabilidade de frase ser revelante ou irrelavente.Depois retorna a relevância da frase.\n",
    "\n",
    "def compara_probabilidade(frase):\n",
    "    frase = separa_emoji(limpeza_texto(str(frase)).lower())\n",
    "    Rele = 1\n",
    "    Irrele = 1    \n",
    "    for palavra in frase:\n",
    "        Rele *= probabilidades(palavra)[0]\n",
    "        Irrele *= probabilidades(palavra)[1]\n",
    "    if Rele >= Irrele:\n",
    "        return 1\n",
    "    else:\n",
    "        return 0"
   ]
  },
  {
   "cell_type": "code",
   "execution_count": 189,
   "metadata": {},
   "outputs": [],
   "source": [
    "#aplicando \n",
    "lista_teste = []\n",
    "for i in test['Teste']:\n",
    "    lista_teste.append(compara_probabilidade(i))\n",
    "    \n",
    "test[\"classificador\"] = lista_teste\n"
   ]
  },
  {
   "cell_type": "markdown",
   "metadata": {},
   "source": [
    "___\n",
    "### Verificando a performance do Classificador\n",
    "\n",
    "Agora você deve testar o seu classificador com a base de Testes."
   ]
  },
  {
   "cell_type": "markdown",
   "metadata": {},
   "source": [
    "#### tmondando o classificador e dividindo o por categorias"
   ]
  },
  {
   "cell_type": "code",
   "execution_count": 190,
   "metadata": {},
   "outputs": [],
   "source": [
    "#\"val_comparados\" é uma tabela que compara os valores atribuidos pelo o classificar com os atribuidos manualmente\n",
    "val_comparados = pd.crosstab(test['B1'],test['classificador'], normalize='index')\n",
    "\n",
    "#valores da tabela \n",
    "pos_verdadeiro = val_comparados[1][1]/2\n",
    "pos_falso = val_comparados[1][0]/2\n",
    "neg_verdadeiro = val_comparados[0][0]/2\n",
    "neg_falso =val_comparados[0][1]/2"
   ]
  },
  {
   "cell_type": "markdown",
   "metadata": {},
   "source": [
    "#### imprimindo as classificações"
   ]
  },
  {
   "cell_type": "code",
   "execution_count": 191,
   "metadata": {
    "scrolled": false
   },
   "outputs": [
    {
     "name": "stdout",
     "output_type": "stream",
     "text": [
      "Verdadeiros positivos:  26.14 %\n",
      "Falsos positivos:  13.39 %\n",
      "Verdadeiros negativos:  36.61 %\n",
      "Falsos negativos:  23.86 %\n",
      "\n",
      "\n",
      "Classificados como Relevantes (código):  39.53 %\n",
      "Classificados como Irelevantes (código):  60.47 %\n",
      "\n",
      "Classificados como Relevantes (Manualmente):  44.0 %\n",
      "Classificados como Irelevantes (Manualmente):  56.0 %\n",
      "\n",
      "\n",
      "Acertos:  62.74 %    (verdadeiros positivos e verdadeiros negativos)\n",
      "Erros:  37.26 %    (falsos positivos e falsos negativos)\n",
      "\n",
      "\n"
     ]
    }
   ],
   "source": [
    "#tabelas separadas com os valores\n",
    "teste_relevantes = test.loc[test.B1 == 1]\n",
    "teste_irrelevantes = test.loc[test.B1== 0]\n",
    "\n",
    "\n",
    "print(\"Verdadeiros positivos: \", round(pos_verdadeiro*100,2), \"%\")\n",
    "print(\"Falsos positivos: \", round(pos_falso*100, 2), \"%\")\n",
    "print(\"Verdadeiros negativos: \", round(neg_verdadeiro*100,2), \"%\")\n",
    "print(\"Falsos negativos: \", round(neg_falso*100, 2), \"%\")\n",
    "print('\\n')\n",
    "\n",
    "print(\"Classificados como Relevantes (código): \", round((pos_verdadeiro+pos_falso)*100,2), \"%\")\n",
    "print(\"Classificados como Irelevantes (código): \", round((neg_verdadeiro+neg_falso)*100,2), \"%\")\n",
    "print(\"\")\n",
    "print(\"Classificados como Relevantes (Manualmente): \", round((len(teste_relevantes)/len(test))*100,2), \"%\")\n",
    "print(\"Classificados como Irelevantes (Manualmente): \", round((len(teste_irrelevantes)/len(test))*100,2), \"%\")\n",
    "print('\\n')\n",
    "\n",
    "print(\"Acertos: \", round((pos_verdadeiro+neg_verdadeiro)*100,2), \"%    (verdadeiros positivos e verdadeiros negativos)\")\n",
    "print(\"Erros: \", round((pos_falso+neg_falso)*100,2), \"%    (falsos positivos e falsos negativos)\")\n",
    "print('\\n')\n",
    "\n"
   ]
  },
  {
   "cell_type": "markdown",
   "metadata": {},
   "source": [
    "___\n",
    "### Concluindo"
   ]
  },
  {
   "cell_type": "markdown",
   "metadata": {},
   "source": [
    "#### plotando grafico proporção relevantes e irrelevantes rweets manuais e pelo codigo"
   ]
  },
  {
   "cell_type": "code",
   "execution_count": 192,
   "metadata": {
    "scrolled": true
   },
   "outputs": [
    {
     "data": {
      "image/png": "[encoded data removed]",
      "text/plain": [
       "<Figure size 432x432 with 1 Axes>"
      ]
     },
     "metadata": {},
     "output_type": "display_data"
    }
   ],
   "source": [
    "lc=[]\n",
    "for i in train['B1']:\n",
    "    lc.append(i)\n",
    "\n",
    "c_irrelevante=lc.count(0)    \n",
    "c_relevante=lc.count(1) \n",
    "\n",
    "fig, asd = plt.subplots(figsize=(6, 6), subplot_kw=dict(aspect=\"equal\"))\n",
    "relevancia0 = ['Irrelevantes', 'Relevantes']\n",
    "data0 = [c_irrelevante, c_relevante]\n",
    "c0 = ['#40eb34', '#102ce0']\n",
    "\n",
    "wedges, texts, autotexts = asd.pie(data0,  labels=relevancia0, autopct='%1.1f%%',\n",
    "        shadow=True, startangle=90, colors=c0)\n",
    "\n",
    "plt.setp(autotexts, size=12, weight=\"bold\",)\n",
    "asd.set_title(\"Distribuição de Tweets manuais\")\n",
    "\n",
    "plt.show()"
   ]
  },
  {
   "cell_type": "code",
   "execution_count": 193,
   "metadata": {},
   "outputs": [
    {
     "data": {
      "image/png": "[encoded data removed]",
      "text/plain": [
       "<Figure size 432x432 with 1 Axes>"
      ]
     },
     "metadata": {},
     "output_type": "display_data"
    }
   ],
   "source": [
    "fig, asd = plt.subplots(figsize=(6, 6), subplot_kw=dict(aspect=\"equal\"))\n",
    "relevancia0 = ['relevantes', 'irrelevantes']\n",
    "data0 = [39.53, 60.47]# valores tirados da performace do classificador\n",
    "c0 = ['#102ce0','#40eb34' ]\n",
    "\n",
    "wedges, texts, autotexts = asd.pie(data0,  labels=relevancia0, autopct='%1.1f%%',\n",
    "        shadow=True, startangle=90, colors=c0)\n",
    "\n",
    "plt.setp(autotexts, size=12, weight=\"bold\",)\n",
    "asd.set_title(\"Distribuição de Tweets pelo codigo\")\n",
    "\n",
    "plt.show()"
   ]
  },
  {
   "cell_type": "markdown",
   "metadata": {},
   "source": [
    "#### platando grafico do classificador dos tweets"
   ]
  },
  {
   "cell_type": "markdown",
   "metadata": {},
   "source": [
    "#### função para colocar porcentagens no grafico"
   ]
  },
  {
   "cell_type": "code",
   "execution_count": 194,
   "metadata": {},
   "outputs": [],
   "source": [
    "def grafico(pct, allvals):\n",
    "    absolute = int(pct/100.*np.sum(allvals))\n",
    "    # fazendo legenda do gráfico com %\n",
    "    return \"{:.1f}%\\n\".format(pct, absolute)"
   ]
  },
  {
   "cell_type": "markdown",
   "metadata": {},
   "source": [
    "#### plotando o grafico"
   ]
  },
  {
   "cell_type": "code",
   "execution_count": 195,
   "metadata": {},
   "outputs": [
    {
     "data": {
      "image/png": "[encoded data removed]",
      "text/plain": [
       "<Figure size 432x432 with 1 Axes>"
      ]
     },
     "metadata": {},
     "output_type": "display_data"
    }
   ],
   "source": [
    "fig, ax = plt.subplots(figsize=(6, 6), subplot_kw=dict(aspect=\"equal\",))\n",
    "\n",
    "recipe = [\"Verdadeiros positivos\",\"Falsos positivos\",\"Verdadeiros negativos\",\"Falsos negativos\"]\n",
    "data = [pos_verdadeiro, pos_falso, neg_verdadeiro, neg_falso]\n",
    "\n",
    "wedges, texts, autotexts = ax.pie(data, autopct=lambda pct: grafico(pct, data),\n",
    "                                  textprops=dict(color=\"w\",))\n",
    "\n",
    "ax.legend(wedges, recipe,\n",
    "          title=\"Classificações\",\n",
    "          loc=\"center left\",\n",
    "          bbox_to_anchor=(1, 0, 0.5, 1))\n",
    "\n",
    "plt.setp(autotexts, size=12, weight=\"bold\",)\n",
    "ax.set_title(\"Classificações certas e erradas em %:\")\n",
    "\n",
    "plt.show()"
   ]
  },
  {
   "cell_type": "markdown",
   "metadata": {},
   "source": [
    "#### grafico de acertos e erros"
   ]
  },
  {
   "cell_type": "code",
   "execution_count": 196,
   "metadata": {},
   "outputs": [
    {
     "data": {
      "image/png": "[encoded data removed]",
      "text/plain": [
       "<Figure size 432x432 with 1 Axes>"
      ]
     },
     "metadata": {},
     "output_type": "display_data"
    }
   ],
   "source": [
    "fig, asd = plt.subplots(figsize=(6, 6), subplot_kw=dict(aspect=\"equal\"))\n",
    "relevancia0 = ['acertos', 'erros']\n",
    "data0 = [62.74, 37.26]# valores tirados da performace do classificador\n",
    "c0 = ['#6495ED','#FF6347' ]\n",
    "\n",
    "wedges, texts, autotexts = asd.pie(data0,  labels=relevancia0, autopct='%1.1f%%',\n",
    "        shadow=True, startangle=90, colors=c0)\n",
    "\n",
    "plt.setp(autotexts, size=12, weight=\"bold\",)\n",
    "asd.set_title(\"Distribuição de Tweets pelo codigo\")\n",
    "\n",
    "plt.show()"
   ]
  },
  {
   "cell_type": "markdown",
   "metadata": {},
   "source": [
    "#### conclusão "
   ]
  },
  {
   "cell_type": "markdown",
   "metadata": {},
   "source": [
    "\n",
    "Podemos concluir que o nosso classificador tem um resultado satisfatorio pois apresenta uma acuracia acima de 50%.Alem disso porcentagens de 'verdadeiro positivo'e 'verdadeiro negativo'apresentarem maior porcentagem do nosso classificador apesar de ter um porcentagem siginificativa de falsos negativos. Uma possível solução para esse problema seria obter mais tweets para a base de treinamento do codígo, afim de tornar esse \"critério vago\" em algo mais claro em termos de quantidade de palavras."
   ]
  },
  {
   "cell_type": "markdown",
   "metadata": {},
   "source": [
    "### classificação avançada"
   ]
  },
  {
   "cell_type": "markdown",
   "metadata": {},
   "source": [
    "#### definindo funções"
   ]
  },
  {
   "cell_type": "code",
   "execution_count": 197,
   "metadata": {},
   "outputs": [],
   "source": [
    "#Essa funçao usa a mesma função \"probabilidades\"de antes, para calcular a probabilidade de uma dada frase,\n",
    "# por palavra, estar no grupo relevante e de estar no grupo irrelevante. Então as compara e retorna a relevância da frase\n",
    "# de acordo com os novos criterios descritos acima.\n",
    "def compara_prob_avançado(frase):\n",
    "    frase = separa_emoji(limpeza_texto(str(frase)).lower())\n",
    "    Rel = 1\n",
    "    Irrel = 1    \n",
    "    for palavra in frase:\n",
    "        Rel *= probabilidades(palavra)[0]\n",
    "        Irrel *= probabilidades(palavra)[1]\n",
    "        if palavra in palavras_importantes:\n",
    "            return 3    \n",
    "    if Rel/Irrel > 1000:\n",
    "        return 2\n",
    "    elif Rel >= Irrel:\n",
    "        return 1\n",
    "    else:\n",
    "        return 0\n",
    "    \n",
    "#  função para porcentagens do grafico\n",
    "def grafico(pct, allvals):\n",
    "    # calc %\n",
    "    absolute = int(pct/100.*np.sum(allvals))\n",
    "    # fazendo legenda do gráfico com % e kg\n",
    "    return \"{:.1f}%\\n\".format(pct, absolute)    \n",
    "    "
   ]
  },
  {
   "cell_type": "markdown",
   "metadata": {},
   "source": [
    "#### aplicando funções"
   ]
  },
  {
   "cell_type": "code",
   "execution_count": 198,
   "metadata": {},
   "outputs": [],
   "source": [
    "lista_teste_avançado = []\n",
    "for e in test['Teste']:\n",
    "    lista_teste_avançado.append(compara_prob_avançado(e))\n",
    "test[\"classificador_avançado\"] = lista_teste_avançado\n",
    "\n",
    "Classificador_avançado = test.classificador_avançado.value_counts(normalize=True, sort=False)\n",
    "\n",
    "Irrelevantes_A = Classificador_avançado[0]\n",
    "Relevantes_A = Classificador_avançado[1]\n",
    "muito_relevantes_A = Classificador_avançado[2]\n",
    "detaque_A = Classificador_avançado[3]"
   ]
  },
  {
   "cell_type": "markdown",
   "metadata": {},
   "source": [
    "#### plotando o grafico e printando resultados"
   ]
  },
  {
   "cell_type": "code",
   "execution_count": 199,
   "metadata": {},
   "outputs": [
    {
     "name": "stdout",
     "output_type": "stream",
     "text": [
      "Resultado da Classificação Avançada:\n",
      "\n",
      "\n",
      "Irrelevantes:  50.0 %\n",
      "Relevantes:  32.5 %\n",
      "Muito Relevantes:  1.0 %\n",
      "Destaques:  16.5 %\n",
      "\n",
      "\n"
     ]
    },
    {
     "data": {
      "image/png": "[encoded data removed]",
      "text/plain": [
       "<Figure size 432x432 with 1 Axes>"
      ]
     },
     "metadata": {},
     "output_type": "display_data"
    }
   ],
   "source": [
    "print(\"Resultado da Classificação Avançada:\")\n",
    "print('\\n')\n",
    "print(\"Irrelevantes: \", round(Irrelevantes_A*100,2), \"%\")\n",
    "print(\"Relevantes: \", round(Relevantes_A*100,2), \"%\")\n",
    "print(\"Muito Relevantes: \", round(muito_relevantes_A*100,2), \"%\")\n",
    "print(\"Destaques: \", round(detaque_A*100,2), \"%\")\n",
    "print('\\n')\n",
    "\n",
    "#------------------------------------------------------------------------------------------------------\n",
    "\n",
    "# Gráfico \n",
    "\n",
    "fig, ax = plt.subplots(figsize=(6, 6), subplot_kw=dict(aspect=\"equal\"))\n",
    "\n",
    "recipe = [\"Irrelevantes\",\"Relevantes\",\"Muito Relevantes\",\"Destaques\"]\n",
    "data = [Irrelevantes_A, Relevantes_A, muito_relevantes_A, detaque_A]\n",
    "\n",
    "wedges, texts, autotexts = ax.pie(data, autopct=lambda pct: grafico(pct, data),\n",
    "                                  textprops=dict(color=\"white\"))\n",
    "ax.legend(wedges, recipe,\n",
    "          title=\"Classificações\",\n",
    "          loc=\"center left\",\n",
    "          bbox_to_anchor=(1, 0, 0.5, 1))\n",
    "\n",
    "plt.setp(autotexts, size=12, weight=\"bold\")\n",
    "ax.set_title(\"Proporções das classificações certas e erradas em %:\")\n",
    "plt.show()"
   ]
  },
  {
   "cell_type": "markdown",
   "metadata": {},
   "source": [
    "### __Uso do próprio classificador para gerar amostras de treinamento:__ <br>"
   ]
  },
  {
   "cell_type": "markdown",
   "metadata": {},
   "source": [
    "\n",
    "\n",
    "não pode-se usar tweets analisados pelo classificador como novas amostras de treinamento para aperfeiçoa-lo,  pois os erros do classificador (trazidos pela nova amostra) aumentariam drasticamente des-de a sua origem. Assim com a propagassao desses erros causaria um criterio cada vez mais distante do inivial e um erro cada vez maior gerando um aporcentagem de imprecisão elevada  "
   ]
  },
  {
   "cell_type": "markdown",
   "metadata": {},
   "source": [
    "### diferentes cenarios para naive bayes"
   ]
  },
  {
   "cell_type": "markdown",
   "metadata": {},
   "source": [
    "O classificador desses poderia ser usado para medir o quanto cada candidato a predisencia por exemplo está sendo comentado nas redes sociais.Um outro viez dessa pesquisa poderia ser tambem qual assunto que mais acompanha o presidente nas redes sociais.Um classificador desse pode ser utilizado tambem so setor turistico buscando localizar pontos destaque mais comentados nas redes sociais para possivel abertura de hoteis comercio etc..."
   ]
  },
  {
   "cell_type": "markdown",
   "metadata": {},
   "source": [
    "### como aperfeiçoar ainda mais"
   ]
  },
  {
   "cell_type": "markdown",
   "metadata": {},
   "source": [
    "\n",
    "\n",
    "vizando melhorar ainda mais o classificador alem de aumentar a base de treinamento e possuir um criterio mais claro e menos abrangente, começar a analisar frases com sarcarmo e ironia não realizadas pelo codigo atual, sendo necessario por exemplo analisar os significados dos emojis e a montagem da frase "
   ]
  },
  {
   "cell_type": "markdown",
   "metadata": {},
   "source": [
    "___\n",
    "## Aperfeiçoamento:\n",
    "\n",
    "Trabalhos que conseguirem pelo menos conceito B vão evoluir em conceito dependendo da quantidade de itens avançados:\n",
    "\n",
    "* IMPLEMENTOU outras limpezas e transformações que não afetem a qualidade da informação contida nos tweets. Ex: stemming, lemmatization, stopwords\n",
    "* CORRIGIU separação de espaços entre palavras e emojis ou entre emojis e emojis\n",
    "* CRIOU categorias intermediárias de relevância baseadas na probabilidade: ex.: muito relevante, relevante, neutro, irrelevante, muito irrelevante. Pelo menos quatro categorias, com adição de mais tweets na base, conforme enunciado. (OBRIGATÓRIO PARA TRIOS, sem contar como item avançado)\n",
    "* EXPLICOU porquê não pode usar o próprio classificador para gerar mais amostras de treinamento\n",
    "* PROPÔS diferentes cenários para Naïve Bayes fora do contexto do projeto\n",
    "* SUGERIU e EXPLICOU melhorias reais com indicações concretas de como implementar (indicar como fazer e indicar material de pesquisa)\n",
    "* FEZ o item 6. Qualidade do Classificador a partir de novas separações dos tweets entre Treinamento e Teste descrito no enunciado do projeto (OBRIGATÓRIO para conceitos A ou A+)"
   ]
  },
  {
   "cell_type": "markdown",
   "metadata": {},
   "source": [
    "___\n",
    "## Referências"
   ]
  },
  {
   "cell_type": "markdown",
   "metadata": {},
   "source": [
    "[Naive Bayes and Text Classification](https://arxiv.org/pdf/1410.5329.pdf)  **Mais completo**\n",
    "\n",
    "[A practical explanation of a Naive Bayes Classifier](https://monkeylearn.com/blog/practical-explanation-naive-bayes-classifier/) **Mais simples**"
   ]
  },
  {
   "cell_type": "markdown",
   "metadata": {},
   "source": [
    " separação dos Emojis:\n",
    "https://stackoverflow.com/questions/49921720/how-to-split-emoji-from-each-other-python"
   ]
  },
  {
   "cell_type": "markdown",
   "metadata": {},
   "source": [
    " gráficos: \\https://github.com/matheusbattisti/pie_charts/blob/master/piechart.ipynb"
   ]
  },
  {
   "cell_type": "code",
   "execution_count": null,
   "metadata": {},
   "outputs": [],
   "source": []
  }
 ],
 "metadata": {
  "kernelspec": {
   "display_name": "Python 3",
   "language": "python",
   "name": "python3"
  },
  "language_info": {
   "codemirror_mode": {
    "name": "ipython",
    "version": 3
   },
   "file_extension": ".py",
   "mimetype": "text/x-python",
   "name": "python",
   "nbconvert_exporter": "python",
   "pygments_lexer": "ipython3",
   "version": "3.8.3"
  }
 },
 "nbformat": 4,
 "nbformat_minor": 4
}
